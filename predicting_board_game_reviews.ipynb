{
 "cells": [
  {
   "cell_type": "markdown",
   "metadata": {},
   "source": [
    "# Predicting Board Game Reviews"
   ]
  },
  {
   "cell_type": "markdown",
   "metadata": {},
   "source": [
    "Board games have been making a comeback lately, and deeper, more strategic boardgames, like Settlers of Catan have become hugely popular. A popular site where these types of board games are discussed and reviewed is BoardGameGeek.\n",
    "\n",
    "In this project, we'll be working with a dataset that contains 80000 board games and their associated review scores."
   ]
  },
  {
   "cell_type": "markdown",
   "metadata": {},
   "source": [
    "## Data Exploration"
   ]
  },
  {
   "cell_type": "code",
   "execution_count": 16,
   "metadata": {
    "collapsed": false
   },
   "outputs": [
    {
     "data": {
      "text/html": [
       "<div>\n",
       "<table border=\"1\" class=\"dataframe\">\n",
       "  <thead>\n",
       "    <tr style=\"text-align: right;\">\n",
       "      <th></th>\n",
       "      <th>id</th>\n",
       "      <th>type</th>\n",
       "      <th>name</th>\n",
       "      <th>yearpublished</th>\n",
       "      <th>minplayers</th>\n",
       "      <th>maxplayers</th>\n",
       "      <th>playingtime</th>\n",
       "      <th>minplaytime</th>\n",
       "      <th>maxplaytime</th>\n",
       "      <th>minage</th>\n",
       "      <th>users_rated</th>\n",
       "      <th>average_rating</th>\n",
       "      <th>bayes_average_rating</th>\n",
       "      <th>total_owners</th>\n",
       "      <th>total_traders</th>\n",
       "      <th>total_wanters</th>\n",
       "      <th>total_wishers</th>\n",
       "      <th>total_comments</th>\n",
       "      <th>total_weights</th>\n",
       "      <th>average_weight</th>\n",
       "    </tr>\n",
       "  </thead>\n",
       "  <tbody>\n",
       "    <tr>\n",
       "      <th>0</th>\n",
       "      <td>12333</td>\n",
       "      <td>boardgame</td>\n",
       "      <td>Twilight Struggle</td>\n",
       "      <td>2005.0</td>\n",
       "      <td>2.0</td>\n",
       "      <td>2.0</td>\n",
       "      <td>180.0</td>\n",
       "      <td>180.0</td>\n",
       "      <td>180.0</td>\n",
       "      <td>13.0</td>\n",
       "      <td>20113</td>\n",
       "      <td>8.33774</td>\n",
       "      <td>8.22186</td>\n",
       "      <td>26647</td>\n",
       "      <td>372</td>\n",
       "      <td>1219</td>\n",
       "      <td>5865</td>\n",
       "      <td>5347</td>\n",
       "      <td>2562</td>\n",
       "      <td>3.4785</td>\n",
       "    </tr>\n",
       "    <tr>\n",
       "      <th>1</th>\n",
       "      <td>120677</td>\n",
       "      <td>boardgame</td>\n",
       "      <td>Terra Mystica</td>\n",
       "      <td>2012.0</td>\n",
       "      <td>2.0</td>\n",
       "      <td>5.0</td>\n",
       "      <td>150.0</td>\n",
       "      <td>60.0</td>\n",
       "      <td>150.0</td>\n",
       "      <td>12.0</td>\n",
       "      <td>14383</td>\n",
       "      <td>8.28798</td>\n",
       "      <td>8.14232</td>\n",
       "      <td>16519</td>\n",
       "      <td>132</td>\n",
       "      <td>1586</td>\n",
       "      <td>6277</td>\n",
       "      <td>2526</td>\n",
       "      <td>1423</td>\n",
       "      <td>3.8939</td>\n",
       "    </tr>\n",
       "    <tr>\n",
       "      <th>2</th>\n",
       "      <td>102794</td>\n",
       "      <td>boardgame</td>\n",
       "      <td>Caverna: The Cave Farmers</td>\n",
       "      <td>2013.0</td>\n",
       "      <td>1.0</td>\n",
       "      <td>7.0</td>\n",
       "      <td>210.0</td>\n",
       "      <td>30.0</td>\n",
       "      <td>210.0</td>\n",
       "      <td>12.0</td>\n",
       "      <td>9262</td>\n",
       "      <td>8.28994</td>\n",
       "      <td>8.06886</td>\n",
       "      <td>12230</td>\n",
       "      <td>99</td>\n",
       "      <td>1476</td>\n",
       "      <td>5600</td>\n",
       "      <td>1700</td>\n",
       "      <td>777</td>\n",
       "      <td>3.7761</td>\n",
       "    </tr>\n",
       "    <tr>\n",
       "      <th>3</th>\n",
       "      <td>25613</td>\n",
       "      <td>boardgame</td>\n",
       "      <td>Through the Ages: A Story of Civilization</td>\n",
       "      <td>2006.0</td>\n",
       "      <td>2.0</td>\n",
       "      <td>4.0</td>\n",
       "      <td>240.0</td>\n",
       "      <td>240.0</td>\n",
       "      <td>240.0</td>\n",
       "      <td>12.0</td>\n",
       "      <td>13294</td>\n",
       "      <td>8.20407</td>\n",
       "      <td>8.05804</td>\n",
       "      <td>14343</td>\n",
       "      <td>362</td>\n",
       "      <td>1084</td>\n",
       "      <td>5075</td>\n",
       "      <td>3378</td>\n",
       "      <td>1642</td>\n",
       "      <td>4.1590</td>\n",
       "    </tr>\n",
       "    <tr>\n",
       "      <th>4</th>\n",
       "      <td>3076</td>\n",
       "      <td>boardgame</td>\n",
       "      <td>Puerto Rico</td>\n",
       "      <td>2002.0</td>\n",
       "      <td>2.0</td>\n",
       "      <td>5.0</td>\n",
       "      <td>150.0</td>\n",
       "      <td>90.0</td>\n",
       "      <td>150.0</td>\n",
       "      <td>12.0</td>\n",
       "      <td>39883</td>\n",
       "      <td>8.14261</td>\n",
       "      <td>8.04524</td>\n",
       "      <td>44362</td>\n",
       "      <td>795</td>\n",
       "      <td>861</td>\n",
       "      <td>5414</td>\n",
       "      <td>9173</td>\n",
       "      <td>5213</td>\n",
       "      <td>3.2943</td>\n",
       "    </tr>\n",
       "  </tbody>\n",
       "</table>\n",
       "</div>"
      ],
      "text/plain": [
       "       id       type                                       name  \\\n",
       "0   12333  boardgame                          Twilight Struggle   \n",
       "1  120677  boardgame                              Terra Mystica   \n",
       "2  102794  boardgame                  Caverna: The Cave Farmers   \n",
       "3   25613  boardgame  Through the Ages: A Story of Civilization   \n",
       "4    3076  boardgame                                Puerto Rico   \n",
       "\n",
       "   yearpublished  minplayers  maxplayers  playingtime  minplaytime  \\\n",
       "0         2005.0         2.0         2.0        180.0        180.0   \n",
       "1         2012.0         2.0         5.0        150.0         60.0   \n",
       "2         2013.0         1.0         7.0        210.0         30.0   \n",
       "3         2006.0         2.0         4.0        240.0        240.0   \n",
       "4         2002.0         2.0         5.0        150.0         90.0   \n",
       "\n",
       "   maxplaytime  minage  users_rated  average_rating  bayes_average_rating  \\\n",
       "0        180.0    13.0        20113         8.33774               8.22186   \n",
       "1        150.0    12.0        14383         8.28798               8.14232   \n",
       "2        210.0    12.0         9262         8.28994               8.06886   \n",
       "3        240.0    12.0        13294         8.20407               8.05804   \n",
       "4        150.0    12.0        39883         8.14261               8.04524   \n",
       "\n",
       "   total_owners  total_traders  total_wanters  total_wishers  total_comments  \\\n",
       "0         26647            372           1219           5865            5347   \n",
       "1         16519            132           1586           6277            2526   \n",
       "2         12230             99           1476           5600            1700   \n",
       "3         14343            362           1084           5075            3378   \n",
       "4         44362            795            861           5414            9173   \n",
       "\n",
       "   total_weights  average_weight  \n",
       "0           2562          3.4785  \n",
       "1           1423          3.8939  \n",
       "2            777          3.7761  \n",
       "3           1642          4.1590  \n",
       "4           5213          3.2943  "
      ]
     },
     "execution_count": 16,
     "metadata": {},
     "output_type": "execute_result"
    }
   ],
   "source": [
    "import numpy as np\n",
    "import pandas as pd\n",
    "import matplotlib.pyplot as plt\n",
    "plt.style.use('fivethirtyeight')\n",
    "%matplotlib inline\n",
    "from sklearn.cluster import KMeans\n",
    "\n",
    "board_games = pd.read_csv('board_games.csv')\n",
    "\n",
    "board_games.head()"
   ]
  },
  {
   "cell_type": "markdown",
   "metadata": {},
   "source": [
    "Here are some of the interesting columns:\n",
    "\n",
    "- name -- name of the board game.\n",
    "- playingtime -- the playing time (given by the manufacturer).\n",
    "- minplaytime -- the minimum playing time (given by the manufacturer).\n",
    "- maxplaytime -- the maximum playing time (given by the manufacturer).\n",
    "- minage -- the minimum recommended age to play.\n",
    "- users_rated -- the number of users who rated the game.\n",
    "- average_rating -- the average rating given to the game by users. (0-10)\n",
    "- total_weights -- Number of weights given by users. Weight is a subjective measure that is made up by BoardGameGeek. It's how \"deep\" or involved a game is. [Here's](http://boardgamegeek.com/wiki/page/Weight) a full explanation.\n",
    "- average_weight -- the average of all the subjective weights (0-5).\n",
    "\n",
    "One interesting machine learning task will be to predict average_rating using the other columns. The dataset contains quite a few missing values, and rows where there are no reviews, where the score is 0. We'll need to remove these as we explore the data to make prediction easier."
   ]
  },
  {
   "cell_type": "code",
   "execution_count": 17,
   "metadata": {
    "collapsed": false
   },
   "outputs": [
    {
     "data": {
      "text/html": [
       "<div>\n",
       "<table border=\"1\" class=\"dataframe\">\n",
       "  <thead>\n",
       "    <tr style=\"text-align: right;\">\n",
       "      <th></th>\n",
       "      <th>id</th>\n",
       "      <th>type</th>\n",
       "      <th>name</th>\n",
       "      <th>yearpublished</th>\n",
       "      <th>minplayers</th>\n",
       "      <th>maxplayers</th>\n",
       "      <th>playingtime</th>\n",
       "      <th>minplaytime</th>\n",
       "      <th>maxplaytime</th>\n",
       "      <th>minage</th>\n",
       "      <th>users_rated</th>\n",
       "      <th>average_rating</th>\n",
       "      <th>bayes_average_rating</th>\n",
       "      <th>total_owners</th>\n",
       "      <th>total_traders</th>\n",
       "      <th>total_wanters</th>\n",
       "      <th>total_wishers</th>\n",
       "      <th>total_comments</th>\n",
       "      <th>total_weights</th>\n",
       "      <th>average_weight</th>\n",
       "    </tr>\n",
       "  </thead>\n",
       "  <tbody>\n",
       "    <tr>\n",
       "      <th>0</th>\n",
       "      <td>12333</td>\n",
       "      <td>boardgame</td>\n",
       "      <td>Twilight Struggle</td>\n",
       "      <td>2005.0</td>\n",
       "      <td>2.0</td>\n",
       "      <td>2.0</td>\n",
       "      <td>180.0</td>\n",
       "      <td>180.0</td>\n",
       "      <td>180.0</td>\n",
       "      <td>13.0</td>\n",
       "      <td>20113</td>\n",
       "      <td>8.33774</td>\n",
       "      <td>8.22186</td>\n",
       "      <td>26647</td>\n",
       "      <td>372</td>\n",
       "      <td>1219</td>\n",
       "      <td>5865</td>\n",
       "      <td>5347</td>\n",
       "      <td>2562</td>\n",
       "      <td>3.4785</td>\n",
       "    </tr>\n",
       "    <tr>\n",
       "      <th>1</th>\n",
       "      <td>120677</td>\n",
       "      <td>boardgame</td>\n",
       "      <td>Terra Mystica</td>\n",
       "      <td>2012.0</td>\n",
       "      <td>2.0</td>\n",
       "      <td>5.0</td>\n",
       "      <td>150.0</td>\n",
       "      <td>60.0</td>\n",
       "      <td>150.0</td>\n",
       "      <td>12.0</td>\n",
       "      <td>14383</td>\n",
       "      <td>8.28798</td>\n",
       "      <td>8.14232</td>\n",
       "      <td>16519</td>\n",
       "      <td>132</td>\n",
       "      <td>1586</td>\n",
       "      <td>6277</td>\n",
       "      <td>2526</td>\n",
       "      <td>1423</td>\n",
       "      <td>3.8939</td>\n",
       "    </tr>\n",
       "    <tr>\n",
       "      <th>2</th>\n",
       "      <td>102794</td>\n",
       "      <td>boardgame</td>\n",
       "      <td>Caverna: The Cave Farmers</td>\n",
       "      <td>2013.0</td>\n",
       "      <td>1.0</td>\n",
       "      <td>7.0</td>\n",
       "      <td>210.0</td>\n",
       "      <td>30.0</td>\n",
       "      <td>210.0</td>\n",
       "      <td>12.0</td>\n",
       "      <td>9262</td>\n",
       "      <td>8.28994</td>\n",
       "      <td>8.06886</td>\n",
       "      <td>12230</td>\n",
       "      <td>99</td>\n",
       "      <td>1476</td>\n",
       "      <td>5600</td>\n",
       "      <td>1700</td>\n",
       "      <td>777</td>\n",
       "      <td>3.7761</td>\n",
       "    </tr>\n",
       "    <tr>\n",
       "      <th>3</th>\n",
       "      <td>25613</td>\n",
       "      <td>boardgame</td>\n",
       "      <td>Through the Ages: A Story of Civilization</td>\n",
       "      <td>2006.0</td>\n",
       "      <td>2.0</td>\n",
       "      <td>4.0</td>\n",
       "      <td>240.0</td>\n",
       "      <td>240.0</td>\n",
       "      <td>240.0</td>\n",
       "      <td>12.0</td>\n",
       "      <td>13294</td>\n",
       "      <td>8.20407</td>\n",
       "      <td>8.05804</td>\n",
       "      <td>14343</td>\n",
       "      <td>362</td>\n",
       "      <td>1084</td>\n",
       "      <td>5075</td>\n",
       "      <td>3378</td>\n",
       "      <td>1642</td>\n",
       "      <td>4.1590</td>\n",
       "    </tr>\n",
       "    <tr>\n",
       "      <th>4</th>\n",
       "      <td>3076</td>\n",
       "      <td>boardgame</td>\n",
       "      <td>Puerto Rico</td>\n",
       "      <td>2002.0</td>\n",
       "      <td>2.0</td>\n",
       "      <td>5.0</td>\n",
       "      <td>150.0</td>\n",
       "      <td>90.0</td>\n",
       "      <td>150.0</td>\n",
       "      <td>12.0</td>\n",
       "      <td>39883</td>\n",
       "      <td>8.14261</td>\n",
       "      <td>8.04524</td>\n",
       "      <td>44362</td>\n",
       "      <td>795</td>\n",
       "      <td>861</td>\n",
       "      <td>5414</td>\n",
       "      <td>9173</td>\n",
       "      <td>5213</td>\n",
       "      <td>3.2943</td>\n",
       "    </tr>\n",
       "  </tbody>\n",
       "</table>\n",
       "</div>"
      ],
      "text/plain": [
       "       id       type                                       name  \\\n",
       "0   12333  boardgame                          Twilight Struggle   \n",
       "1  120677  boardgame                              Terra Mystica   \n",
       "2  102794  boardgame                  Caverna: The Cave Farmers   \n",
       "3   25613  boardgame  Through the Ages: A Story of Civilization   \n",
       "4    3076  boardgame                                Puerto Rico   \n",
       "\n",
       "   yearpublished  minplayers  maxplayers  playingtime  minplaytime  \\\n",
       "0         2005.0         2.0         2.0        180.0        180.0   \n",
       "1         2012.0         2.0         5.0        150.0         60.0   \n",
       "2         2013.0         1.0         7.0        210.0         30.0   \n",
       "3         2006.0         2.0         4.0        240.0        240.0   \n",
       "4         2002.0         2.0         5.0        150.0         90.0   \n",
       "\n",
       "   maxplaytime  minage  users_rated  average_rating  bayes_average_rating  \\\n",
       "0        180.0    13.0        20113         8.33774               8.22186   \n",
       "1        150.0    12.0        14383         8.28798               8.14232   \n",
       "2        210.0    12.0         9262         8.28994               8.06886   \n",
       "3        240.0    12.0        13294         8.20407               8.05804   \n",
       "4        150.0    12.0        39883         8.14261               8.04524   \n",
       "\n",
       "   total_owners  total_traders  total_wanters  total_wishers  total_comments  \\\n",
       "0         26647            372           1219           5865            5347   \n",
       "1         16519            132           1586           6277            2526   \n",
       "2         12230             99           1476           5600            1700   \n",
       "3         14343            362           1084           5075            3378   \n",
       "4         44362            795            861           5414            9173   \n",
       "\n",
       "   total_weights  average_weight  \n",
       "0           2562          3.4785  \n",
       "1           1423          3.8939  \n",
       "2            777          3.7761  \n",
       "3           1642          4.1590  \n",
       "4           5213          3.2943  "
      ]
     },
     "execution_count": 17,
     "metadata": {},
     "output_type": "execute_result"
    }
   ],
   "source": [
    "board_games = board_games.dropna(axis=0)\n",
    "board_games = board_games[board_games['users_rated'] > 0]\n",
    "\n",
    "board_games.head()"
   ]
  },
  {
   "cell_type": "markdown",
   "metadata": {},
   "source": [
    "## Picking An Error Metric"
   ]
  },
  {
   "cell_type": "markdown",
   "metadata": {},
   "source": [
    "We want to predict the average_rating column using the other columns, but we'll need to do some data exploration before we're ready to do so. The exploration will help us understand the distribution of average_rating better, as well as select an error metric that we'll use to evaluate the performance of our machine learning model."
   ]
  },
  {
   "cell_type": "code",
   "execution_count": 19,
   "metadata": {
    "collapsed": false,
    "scrolled": true
   },
   "outputs": [
    {
     "data": {
      "image/png": "[encoded data removed]",
      "text/plain": [
       "<matplotlib.figure.Figure at 0x7fe00efa9a90>"
      ]
     },
     "metadata": {},
     "output_type": "display_data"
    }
   ],
   "source": [
    "plt.figure(figsize=(8,6))\n",
    "plt.title('Average Rating of Board Games')\n",
    "plt.xlabel('Rating from 0 to 10')\n",
    "plt.ylabel('Number of Games per Rating')\n",
    "plt.hist(board_games['average_rating'])\n",
    "plt.show()"
   ]
  },
  {
   "cell_type": "code",
   "execution_count": 24,
   "metadata": {
    "collapsed": false,
    "scrolled": true
   },
   "outputs": [
    {
     "name": "stdout",
     "output_type": "stream",
     "text": [
      "1.5788299348332662\n",
      "6.016112849333889\n"
     ]
    }
   ],
   "source": [
    "print(board_games['average_rating'].std())\n",
    "print(board_games['average_rating'].mean())"
   ]
  },
  {
   "cell_type": "markdown",
   "metadata": {
    "collapsed": true
   },
   "source": [
    "In this data set, using mean squared error as an error metric makes sense. This is because the data is continuous, and follows a somewhat normal distribution. We'll be able to compare our error to the standard deviation to see how good the model is at predictions."
   ]
  },
  {
   "cell_type": "markdown",
   "metadata": {},
   "source": [
    "## Plotting Clusters\n",
    "Now that we have a handle on the average_rating column, and have picked an error metric, we're ready for the next step. \n",
    "\n",
    "We can look at the data for patterns that may help us develop a machine learning model. One way to look for patterns is to use a clustering algorithm to create clusters, then plot them out.\n",
    "\n",
    "We can first fit a KMeans class from the scikit-learn library. The KMeans class only works with numeric columns, so we have to extract the numeric columns of board_games before passing them into the fit method of the KMeans class.\n",
    "\n",
    "To plot out the cluster assignment, we first find the mean and standard deviation of each row, then make a scatterplot for mean vs standard deviation, then shade the points according to their cluster assignment."
   ]
  },
  {
   "cell_type": "code",
   "execution_count": 25,
   "metadata": {
    "collapsed": false
   },
   "outputs": [
    {
     "data": {
      "text/plain": [
       "KMeans(copy_x=True, init='k-means++', max_iter=300, n_clusters=5, n_init=10,\n",
       "    n_jobs=1, precompute_distances='auto', random_state=None, tol=0.0001,\n",
       "    verbose=0)"
      ]
     },
     "execution_count": 25,
     "metadata": {},
     "output_type": "execute_result"
    }
   ],
   "source": [
    "clus = KMeans(n_clusters=5)\n",
    "cols = list(board_games.columns)\n",
    "cols.remove('name')\n",
    "cols.remove('id')\n",
    "cols.remove('type')\n",
    "numeric = board_games[cols]\n",
    "\n",
    "clus.fit(numeric)"
   ]
  },
  {
   "cell_type": "code",
   "execution_count": 26,
   "metadata": {
    "collapsed": true
   },
   "outputs": [],
   "source": [
    "game_mean = numeric.apply(np.mean, axis=1)\n",
    "game_std = numeric.apply(np.std, axis=1)"
   ]
  },
  {
   "cell_type": "code",
   "execution_count": 29,
   "metadata": {
    "collapsed": false
   },
   "outputs": [
    {
     "data": {
      "image/png": "[encoded data removed]",
      "text/plain": [
       "<matplotlib.figure.Figure at 0x7fe00c842cc0>"
      ]
     },
     "metadata": {},
     "output_type": "display_data"
    }
   ],
   "source": [
    "labels = clus.labels_\n",
    "plt.figure(figsize=(8,6))\n",
    "plt.scatter(x = game_mean, y = game_std, c = labels)\n",
    "plt.show()"
   ]
  },
  {
   "cell_type": "markdown",
   "metadata": {
    "collapsed": true
   },
   "source": [
    "It looks like most of the games are similar, but as the game attributes tend to increase in value (such as number of users who rated), there are fewer high quality games. So most games don't get played much, but a few get a lot of players."
   ]
  },
  {
   "cell_type": "markdown",
   "metadata": {},
   "source": [
    "## Finding Correlations\n",
    "Now that we've done some data exploration, we can figure out which columns correlate well with average_rating. This will enable us to remove columns that don't add much predictive power to the model. Columns that are uncorrelated with the target won't help a linear regression model, which is what we'll be using. It will also enable us to remove columns that are derived from the target, or otherwise cause overfitting."
   ]
  },
  {
   "cell_type": "code",
   "execution_count": 30,
   "metadata": {
    "collapsed": false,
    "scrolled": true
   },
   "outputs": [
    {
     "data": {
      "text/plain": [
       "yearpublished           0.108461\n",
       "minplayers             -0.032701\n",
       "maxplayers             -0.008335\n",
       "playingtime             0.048994\n",
       "minplaytime             0.043985\n",
       "maxplaytime             0.048994\n",
       "minage                  0.210049\n",
       "users_rated             0.112564\n",
       "average_rating          1.000000\n",
       "bayes_average_rating    0.231563\n",
       "total_owners            0.137478\n",
       "total_traders           0.119452\n",
       "total_wanters           0.196566\n",
       "total_wishers           0.171375\n",
       "total_comments          0.123714\n",
       "total_weights           0.109691\n",
       "average_weight          0.351081\n",
       "Name: average_rating, dtype: float64"
      ]
     },
     "execution_count": 30,
     "metadata": {},
     "output_type": "execute_result"
    }
   ],
   "source": [
    "correlations = numeric.corr()\n",
    "correlations[\"average_rating\"]"
   ]
  },
  {
   "cell_type": "markdown",
   "metadata": {
    "collapsed": true
   },
   "source": [
    "The yearpublished column is surprisingly highly correlated with average_rating, showing that more recent games tend\n",
    "to be rated more highly. Games for older players (minage is high) tend to be more highly rated. The more \"weighty\" a game is (average_weight is high), the more highly it tends to be rated."
   ]
  },
  {
   "cell_type": "markdown",
   "metadata": {},
   "source": [
    "## Creating A Model\n",
    "We'll fit a linear regression model to board_games, using the columns we think should be predictors, and average_rating as the target. We'll then generate predictions using the same predictors you used in the fitting process. We are not going to use a training and testing set for this small project. "
   ]
  },
  {
   "cell_type": "code",
   "execution_count": 31,
   "metadata": {
    "collapsed": false
   },
   "outputs": [
    {
     "data": {
      "text/plain": [
       "2.0933969758339432"
      ]
     },
     "execution_count": 31,
     "metadata": {},
     "output_type": "execute_result"
    }
   ],
   "source": [
    "from sklearn.linear_model import LinearRegression\n",
    "\n",
    "reg = LinearRegression()\n",
    "cols.remove(\"average_rating\")\n",
    "cols.remove(\"bayes_average_rating\")\n",
    "reg.fit(board_games[cols], board_games[\"average_rating\"])\n",
    "predictions = reg.predict(board_games[cols])\n",
    "\n",
    "np.mean((predictions - board_games[\"average_rating\"]) ** 2)"
   ]
  },
  {
   "cell_type": "markdown",
   "metadata": {},
   "source": [
    "The error rate is close to the standard deviation of all board game ratings. This indicates that our model may not have high predictive power. We'll need to dig more into which games were scored well, and which ones weren't."
   ]
  },
  {
   "cell_type": "markdown",
   "metadata": {},
   "source": [
    "## Ideas for Extra Exploration\n",
    "\n",
    "Here are some potential next steps:\n",
    "\n",
    "- Split the data into training and testing sets, and calculate error on the testing set.\n",
    "- Try algorithms other than linear regression.\n",
    "- Calculate new predictors based off the existing columns, such as:\n",
    "- Player range (maxplayers - minplayers)\n",
    "- Playing time range (maxplaytime - minplaytime)\n",
    "- Average number of ratings (total_owners / users_rated)\n",
    "- Scrape the latest data from [BoardGameGeek](http://www.boardgamegeek.com/) to increase the size of the dataset.\n",
    "- Scrape additional data from [BoardGameGeek](http://www.boardgamegeek.com/) to add in more columns."
   ]
  },
  {
   "cell_type": "code",
   "execution_count": null,
   "metadata": {
    "collapsed": true
   },
   "outputs": [],
   "source": []
  }
 ],
 "metadata": {
  "anaconda-cloud": {},
  "kernelspec": {
   "display_name": "Python [Root]",
   "language": "python",
   "name": "Python [Root]"
  },
  "language_info": {
   "codemirror_mode": {
    "name": "ipython",
    "version": 3
   },
   "file_extension": ".py",
   "mimetype": "text/x-python",
   "name": "python",
   "nbconvert_exporter": "python",
   "pygments_lexer": "ipython3",
   "version": "3.5.2"
  }
 },
 "nbformat": 4,
 "nbformat_minor": 0
}
